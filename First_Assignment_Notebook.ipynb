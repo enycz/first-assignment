{
  "nbformat": 4,
  "nbformat_minor": 0,
  "metadata": {
    "colab": {
      "name": "First Assignment Notebook",
      "provenance": []
    },
    "kernelspec": {
      "name": "python3",
      "display_name": "Python 3"
    }
  },
  "cells": [
    {
      "cell_type": "code",
      "metadata": {
        "id": "5mczaAU6M3XQ",
        "colab_type": "code",
        "colab": {}
      },
      "source": [
        "#This is my first notebook - hey!"
      ],
      "execution_count": null,
      "outputs": []
    }
  ]
}